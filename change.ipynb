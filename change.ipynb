{
 "cells": [
  {
   "cell_type": "code",
   "execution_count": 6,
   "metadata": {},
   "outputs": [
    {
     "name": "stdout",
     "output_type": "stream",
     "text": [
      "Moviepy - Building video /Users/vedantpadole/Desktop/Research/Adjectives_real/Sick/MVI_5331.mp4.\n",
      "MoviePy - Writing audio in MVI_5331TEMP_MPY_wvf_snd.mp3\n"
     ]
    },
    {
     "name": "stderr",
     "output_type": "stream",
     "text": [
      "                                                       \r"
     ]
    },
    {
     "name": "stdout",
     "output_type": "stream",
     "text": [
      "MoviePy - Done.\n",
      "Moviepy - Writing video /Users/vedantpadole/Desktop/Research/Adjectives_real/Sick/MVI_5331.mp4\n",
      "\n"
     ]
    },
    {
     "name": "stderr",
     "output_type": "stream",
     "text": [
      "                                                            \r"
     ]
    },
    {
     "name": "stdout",
     "output_type": "stream",
     "text": [
      "Moviepy - Done !\n",
      "Moviepy - video ready /Users/vedantpadole/Desktop/Research/Adjectives_real/Sick/MVI_5331.mp4\n",
      "Moviepy - Building video /Users/vedantpadole/Desktop/Research/Adjectives_real/Sick/MVI_5251.mp4.\n",
      "MoviePy - Writing audio in MVI_5251TEMP_MPY_wvf_snd.mp3\n"
     ]
    },
    {
     "name": "stderr",
     "output_type": "stream",
     "text": [
      "                                                       \r"
     ]
    },
    {
     "name": "stdout",
     "output_type": "stream",
     "text": [
      "MoviePy - Done.\n",
      "Moviepy - Writing video /Users/vedantpadole/Desktop/Research/Adjectives_real/Sick/MVI_5251.mp4\n",
      "\n"
     ]
    },
    {
     "name": "stderr",
     "output_type": "stream",
     "text": [
      "                                                            \r"
     ]
    },
    {
     "name": "stdout",
     "output_type": "stream",
     "text": [
      "Moviepy - Done !\n",
      "Moviepy - video ready /Users/vedantpadole/Desktop/Research/Adjectives_real/Sick/MVI_5251.mp4\n",
      "Moviepy - Building video /Users/vedantpadole/Desktop/Research/Adjectives_real/Sick/MVI_9443.mp4.\n",
      "MoviePy - Writing audio in MVI_9443TEMP_MPY_wvf_snd.mp3\n"
     ]
    },
    {
     "name": "stderr",
     "output_type": "stream",
     "text": [
      "                                                       \r"
     ]
    },
    {
     "name": "stdout",
     "output_type": "stream",
     "text": [
      "MoviePy - Done.\n",
      "Moviepy - Writing video /Users/vedantpadole/Desktop/Research/Adjectives_real/Sick/MVI_9443.mp4\n",
      "\n"
     ]
    },
    {
     "name": "stderr",
     "output_type": "stream",
     "text": [
      "                                                            \r"
     ]
    },
    {
     "name": "stdout",
     "output_type": "stream",
     "text": [
      "Moviepy - Done !\n",
      "Moviepy - video ready /Users/vedantpadole/Desktop/Research/Adjectives_real/Sick/MVI_9443.mp4\n",
      "Moviepy - Building video /Users/vedantpadole/Desktop/Research/Adjectives_real/Sick/MVI_9442.mp4.\n",
      "MoviePy - Writing audio in MVI_9442TEMP_MPY_wvf_snd.mp3\n"
     ]
    },
    {
     "name": "stderr",
     "output_type": "stream",
     "text": [
      "                                                       \r"
     ]
    },
    {
     "name": "stdout",
     "output_type": "stream",
     "text": [
      "MoviePy - Done.\n",
      "Moviepy - Writing video /Users/vedantpadole/Desktop/Research/Adjectives_real/Sick/MVI_9442.mp4\n",
      "\n"
     ]
    },
    {
     "name": "stderr",
     "output_type": "stream",
     "text": [
      "                                                            \r"
     ]
    },
    {
     "name": "stdout",
     "output_type": "stream",
     "text": [
      "Moviepy - Done !\n",
      "Moviepy - video ready /Users/vedantpadole/Desktop/Research/Adjectives_real/Sick/MVI_9442.mp4\n",
      "Moviepy - Building video /Users/vedantpadole/Desktop/Research/Adjectives_real/Sick/MVI_5330.mp4.\n",
      "MoviePy - Writing audio in MVI_5330TEMP_MPY_wvf_snd.mp3\n"
     ]
    },
    {
     "name": "stderr",
     "output_type": "stream",
     "text": [
      "                                                       \r"
     ]
    },
    {
     "name": "stdout",
     "output_type": "stream",
     "text": [
      "MoviePy - Done.\n",
      "Moviepy - Writing video /Users/vedantpadole/Desktop/Research/Adjectives_real/Sick/MVI_5330.mp4\n",
      "\n"
     ]
    },
    {
     "name": "stderr",
     "output_type": "stream",
     "text": [
      "                                                            \r"
     ]
    },
    {
     "name": "stdout",
     "output_type": "stream",
     "text": [
      "Moviepy - Done !\n",
      "Moviepy - video ready /Users/vedantpadole/Desktop/Research/Adjectives_real/Sick/MVI_5330.mp4\n",
      "Moviepy - Building video /Users/vedantpadole/Desktop/Research/Adjectives_real/Sick/MVI_5252.mp4.\n",
      "MoviePy - Writing audio in MVI_5252TEMP_MPY_wvf_snd.mp3\n"
     ]
    },
    {
     "name": "stderr",
     "output_type": "stream",
     "text": [
      "                                                                 \r"
     ]
    },
    {
     "name": "stdout",
     "output_type": "stream",
     "text": [
      "MoviePy - Done.\n",
      "Moviepy - Writing video /Users/vedantpadole/Desktop/Research/Adjectives_real/Sick/MVI_5252.mp4\n",
      "\n"
     ]
    },
    {
     "name": "stderr",
     "output_type": "stream",
     "text": [
      "                                                            \r"
     ]
    },
    {
     "name": "stdout",
     "output_type": "stream",
     "text": [
      "Moviepy - Done !\n",
      "Moviepy - video ready /Users/vedantpadole/Desktop/Research/Adjectives_real/Sick/MVI_5252.mp4\n",
      "Moviepy - Building video /Users/vedantpadole/Desktop/Research/Adjectives_real/Sick/MVI_5253.mp4.\n",
      "MoviePy - Writing audio in MVI_5253TEMP_MPY_wvf_snd.mp3\n"
     ]
    },
    {
     "name": "stderr",
     "output_type": "stream",
     "text": [
      "                                                                 \r"
     ]
    },
    {
     "name": "stdout",
     "output_type": "stream",
     "text": [
      "MoviePy - Done.\n",
      "Moviepy - Writing video /Users/vedantpadole/Desktop/Research/Adjectives_real/Sick/MVI_5253.mp4\n",
      "\n"
     ]
    },
    {
     "name": "stderr",
     "output_type": "stream",
     "text": [
      "                                                            \r"
     ]
    },
    {
     "name": "stdout",
     "output_type": "stream",
     "text": [
      "Moviepy - Done !\n",
      "Moviepy - video ready /Users/vedantpadole/Desktop/Research/Adjectives_real/Sick/MVI_5253.mp4\n",
      "Moviepy - Building video /Users/vedantpadole/Desktop/Research/Adjectives_real/Sick/MVI_9280.mp4.\n",
      "MoviePy - Writing audio in MVI_9280TEMP_MPY_wvf_snd.mp3\n"
     ]
    },
    {
     "name": "stderr",
     "output_type": "stream",
     "text": [
      "                                                                 \r"
     ]
    },
    {
     "name": "stdout",
     "output_type": "stream",
     "text": [
      "MoviePy - Done.\n",
      "Moviepy - Writing video /Users/vedantpadole/Desktop/Research/Adjectives_real/Sick/MVI_9280.mp4\n",
      "\n"
     ]
    },
    {
     "name": "stderr",
     "output_type": "stream",
     "text": [
      "                                                            \r"
     ]
    },
    {
     "name": "stdout",
     "output_type": "stream",
     "text": [
      "Moviepy - Done !\n",
      "Moviepy - video ready /Users/vedantpadole/Desktop/Research/Adjectives_real/Sick/MVI_9280.mp4\n",
      "Moviepy - Building video /Users/vedantpadole/Desktop/Research/Adjectives_real/Sick/MVI_9444.mp4.\n",
      "MoviePy - Writing audio in MVI_9444TEMP_MPY_wvf_snd.mp3\n"
     ]
    },
    {
     "name": "stderr",
     "output_type": "stream",
     "text": [
      "                                                       \r"
     ]
    },
    {
     "name": "stdout",
     "output_type": "stream",
     "text": [
      "MoviePy - Done.\n",
      "Moviepy - Writing video /Users/vedantpadole/Desktop/Research/Adjectives_real/Sick/MVI_9444.mp4\n",
      "\n"
     ]
    },
    {
     "name": "stderr",
     "output_type": "stream",
     "text": [
      "                                                            \r"
     ]
    },
    {
     "name": "stdout",
     "output_type": "stream",
     "text": [
      "Moviepy - Done !\n",
      "Moviepy - video ready /Users/vedantpadole/Desktop/Research/Adjectives_real/Sick/MVI_9444.mp4\n",
      "Moviepy - Building video /Users/vedantpadole/Desktop/Research/Adjectives_real/Sick/MVI_9281.mp4.\n",
      "MoviePy - Writing audio in MVI_9281TEMP_MPY_wvf_snd.mp3\n"
     ]
    },
    {
     "name": "stderr",
     "output_type": "stream",
     "text": [
      "                                                       \r"
     ]
    },
    {
     "name": "stdout",
     "output_type": "stream",
     "text": [
      "MoviePy - Done.\n",
      "Moviepy - Writing video /Users/vedantpadole/Desktop/Research/Adjectives_real/Sick/MVI_9281.mp4\n",
      "\n"
     ]
    },
    {
     "name": "stderr",
     "output_type": "stream",
     "text": [
      "                                                            \r"
     ]
    },
    {
     "name": "stdout",
     "output_type": "stream",
     "text": [
      "Moviepy - Done !\n",
      "Moviepy - video ready /Users/vedantpadole/Desktop/Research/Adjectives_real/Sick/MVI_9281.mp4\n",
      "Moviepy - Building video /Users/vedantpadole/Desktop/Research/Adjectives_real/Sick/MVI_9282.mp4.\n",
      "MoviePy - Writing audio in MVI_9282TEMP_MPY_wvf_snd.mp3\n"
     ]
    },
    {
     "name": "stderr",
     "output_type": "stream",
     "text": [
      "                                                       \r"
     ]
    },
    {
     "name": "stdout",
     "output_type": "stream",
     "text": [
      "MoviePy - Done.\n",
      "Moviepy - Writing video /Users/vedantpadole/Desktop/Research/Adjectives_real/Sick/MVI_9282.mp4\n",
      "\n"
     ]
    },
    {
     "name": "stderr",
     "output_type": "stream",
     "text": [
      "                                                            \r"
     ]
    },
    {
     "name": "stdout",
     "output_type": "stream",
     "text": [
      "Moviepy - Done !\n",
      "Moviepy - video ready /Users/vedantpadole/Desktop/Research/Adjectives_real/Sick/MVI_9282.mp4\n",
      "Moviepy - Building video /Users/vedantpadole/Desktop/Research/Adjectives_real/Sick/MVI_9527.mp4.\n",
      "MoviePy - Writing audio in MVI_9527TEMP_MPY_wvf_snd.mp3\n"
     ]
    },
    {
     "name": "stderr",
     "output_type": "stream",
     "text": [
      "                                                       \r"
     ]
    },
    {
     "name": "stdout",
     "output_type": "stream",
     "text": [
      "MoviePy - Done.\n",
      "Moviepy - Writing video /Users/vedantpadole/Desktop/Research/Adjectives_real/Sick/MVI_9527.mp4\n",
      "\n"
     ]
    },
    {
     "name": "stderr",
     "output_type": "stream",
     "text": [
      "                                                            \r"
     ]
    },
    {
     "name": "stdout",
     "output_type": "stream",
     "text": [
      "Moviepy - Done !\n",
      "Moviepy - video ready /Users/vedantpadole/Desktop/Research/Adjectives_real/Sick/MVI_9527.mp4\n",
      "Moviepy - Building video /Users/vedantpadole/Desktop/Research/Adjectives_real/Sick/MVI_9529.mp4.\n",
      "MoviePy - Writing audio in MVI_9529TEMP_MPY_wvf_snd.mp3\n"
     ]
    },
    {
     "name": "stderr",
     "output_type": "stream",
     "text": [
      "                                                       \r"
     ]
    },
    {
     "name": "stdout",
     "output_type": "stream",
     "text": [
      "MoviePy - Done.\n",
      "Moviepy - Writing video /Users/vedantpadole/Desktop/Research/Adjectives_real/Sick/MVI_9529.mp4\n",
      "\n"
     ]
    },
    {
     "name": "stderr",
     "output_type": "stream",
     "text": [
      "                                                            \r"
     ]
    },
    {
     "name": "stdout",
     "output_type": "stream",
     "text": [
      "Moviepy - Done !\n",
      "Moviepy - video ready /Users/vedantpadole/Desktop/Research/Adjectives_real/Sick/MVI_9529.mp4\n",
      "Moviepy - Building video /Users/vedantpadole/Desktop/Research/Adjectives_real/Sick/MVI_9528.mp4.\n",
      "MoviePy - Writing audio in MVI_9528TEMP_MPY_wvf_snd.mp3\n"
     ]
    },
    {
     "name": "stderr",
     "output_type": "stream",
     "text": [
      "                                                       \r"
     ]
    },
    {
     "name": "stdout",
     "output_type": "stream",
     "text": [
      "MoviePy - Done.\n",
      "Moviepy - Writing video /Users/vedantpadole/Desktop/Research/Adjectives_real/Sick/MVI_9528.mp4\n",
      "\n"
     ]
    },
    {
     "name": "stderr",
     "output_type": "stream",
     "text": [
      "                                                            \r"
     ]
    },
    {
     "name": "stdout",
     "output_type": "stream",
     "text": [
      "Moviepy - Done !\n",
      "Moviepy - video ready /Users/vedantpadole/Desktop/Research/Adjectives_real/Sick/MVI_9528.mp4\n",
      "Moviepy - Building video /Users/vedantpadole/Desktop/Research/Adjectives_real/Sick/MVI_5329.mp4.\n",
      "MoviePy - Writing audio in MVI_5329TEMP_MPY_wvf_snd.mp3\n"
     ]
    },
    {
     "name": "stderr",
     "output_type": "stream",
     "text": [
      "                                                                 \r"
     ]
    },
    {
     "name": "stdout",
     "output_type": "stream",
     "text": [
      "MoviePy - Done.\n",
      "Moviepy - Writing video /Users/vedantpadole/Desktop/Research/Adjectives_real/Sick/MVI_5329.mp4\n",
      "\n"
     ]
    },
    {
     "name": "stderr",
     "output_type": "stream",
     "text": [
      "                                                            \r"
     ]
    },
    {
     "name": "stdout",
     "output_type": "stream",
     "text": [
      "Moviepy - Done !\n",
      "Moviepy - video ready /Users/vedantpadole/Desktop/Research/Adjectives_real/Sick/MVI_5329.mp4\n",
      "Moviepy - Building video /Users/vedantpadole/Desktop/Research/Adjectives_real/Sick/MVI_5171.mp4.\n",
      "MoviePy - Writing audio in MVI_5171TEMP_MPY_wvf_snd.mp3\n"
     ]
    },
    {
     "name": "stderr",
     "output_type": "stream",
     "text": [
      "                                                       \r"
     ]
    },
    {
     "name": "stdout",
     "output_type": "stream",
     "text": [
      "MoviePy - Done.\n",
      "Moviepy - Writing video /Users/vedantpadole/Desktop/Research/Adjectives_real/Sick/MVI_5171.mp4\n",
      "\n"
     ]
    },
    {
     "name": "stderr",
     "output_type": "stream",
     "text": [
      "                                                            \r"
     ]
    },
    {
     "name": "stdout",
     "output_type": "stream",
     "text": [
      "Moviepy - Done !\n",
      "Moviepy - video ready /Users/vedantpadole/Desktop/Research/Adjectives_real/Sick/MVI_5171.mp4\n",
      "Moviepy - Building video /Users/vedantpadole/Desktop/Research/Adjectives_real/Sick/MVI_5170.mp4.\n",
      "MoviePy - Writing audio in MVI_5170TEMP_MPY_wvf_snd.mp3\n"
     ]
    },
    {
     "name": "stderr",
     "output_type": "stream",
     "text": [
      "                                                                 \r"
     ]
    },
    {
     "name": "stdout",
     "output_type": "stream",
     "text": [
      "MoviePy - Done.\n",
      "Moviepy - Writing video /Users/vedantpadole/Desktop/Research/Adjectives_real/Sick/MVI_5170.mp4\n",
      "\n"
     ]
    },
    {
     "name": "stderr",
     "output_type": "stream",
     "text": [
      "                                                            \r"
     ]
    },
    {
     "name": "stdout",
     "output_type": "stream",
     "text": [
      "Moviepy - Done !\n",
      "Moviepy - video ready /Users/vedantpadole/Desktop/Research/Adjectives_real/Sick/MVI_5170.mp4\n",
      "Moviepy - Building video /Users/vedantpadole/Desktop/Research/Adjectives_real/Sick/MVI_5172.mp4.\n",
      "MoviePy - Writing audio in MVI_5172TEMP_MPY_wvf_snd.mp3\n"
     ]
    },
    {
     "name": "stderr",
     "output_type": "stream",
     "text": [
      "                                                       \r"
     ]
    },
    {
     "name": "stdout",
     "output_type": "stream",
     "text": [
      "MoviePy - Done.\n",
      "Moviepy - Writing video /Users/vedantpadole/Desktop/Research/Adjectives_real/Sick/MVI_5172.mp4\n",
      "\n"
     ]
    },
    {
     "name": "stderr",
     "output_type": "stream",
     "text": [
      "                                                            \r"
     ]
    },
    {
     "name": "stdout",
     "output_type": "stream",
     "text": [
      "Moviepy - Done !\n",
      "Moviepy - video ready /Users/vedantpadole/Desktop/Research/Adjectives_real/Sick/MVI_5172.mp4\n",
      "Moviepy - Building video /Users/vedantpadole/Desktop/Research/Adjectives_real/Sick/MVI_9364.mp4.\n",
      "MoviePy - Writing audio in MVI_9364TEMP_MPY_wvf_snd.mp3\n"
     ]
    },
    {
     "name": "stderr",
     "output_type": "stream",
     "text": [
      "                                                       \r"
     ]
    },
    {
     "name": "stdout",
     "output_type": "stream",
     "text": [
      "MoviePy - Done.\n",
      "Moviepy - Writing video /Users/vedantpadole/Desktop/Research/Adjectives_real/Sick/MVI_9364.mp4\n",
      "\n"
     ]
    },
    {
     "name": "stderr",
     "output_type": "stream",
     "text": [
      "                                                            \r"
     ]
    },
    {
     "name": "stdout",
     "output_type": "stream",
     "text": [
      "Moviepy - Done !\n",
      "Moviepy - video ready /Users/vedantpadole/Desktop/Research/Adjectives_real/Sick/MVI_9364.mp4\n",
      "Moviepy - Building video /Users/vedantpadole/Desktop/Research/Adjectives_real/Sick/MVI_9362.mp4.\n",
      "MoviePy - Writing audio in MVI_9362TEMP_MPY_wvf_snd.mp3\n"
     ]
    },
    {
     "name": "stderr",
     "output_type": "stream",
     "text": [
      "                                                       \r"
     ]
    },
    {
     "name": "stdout",
     "output_type": "stream",
     "text": [
      "MoviePy - Done.\n",
      "Moviepy - Writing video /Users/vedantpadole/Desktop/Research/Adjectives_real/Sick/MVI_9362.mp4\n",
      "\n"
     ]
    },
    {
     "name": "stderr",
     "output_type": "stream",
     "text": [
      "                                                            \r"
     ]
    },
    {
     "name": "stdout",
     "output_type": "stream",
     "text": [
      "Moviepy - Done !\n",
      "Moviepy - video ready /Users/vedantpadole/Desktop/Research/Adjectives_real/Sick/MVI_9362.mp4\n",
      "Moviepy - Building video /Users/vedantpadole/Desktop/Research/Adjectives_real/Sick/MVI_9363.mp4.\n",
      "MoviePy - Writing audio in MVI_9363TEMP_MPY_wvf_snd.mp3\n"
     ]
    },
    {
     "name": "stderr",
     "output_type": "stream",
     "text": [
      "                                                       \r"
     ]
    },
    {
     "name": "stdout",
     "output_type": "stream",
     "text": [
      "MoviePy - Done.\n",
      "Moviepy - Writing video /Users/vedantpadole/Desktop/Research/Adjectives_real/Sick/MVI_9363.mp4\n",
      "\n"
     ]
    },
    {
     "name": "stderr",
     "output_type": "stream",
     "text": [
      "                                                            \r"
     ]
    },
    {
     "name": "stdout",
     "output_type": "stream",
     "text": [
      "Moviepy - Done !\n",
      "Moviepy - video ready /Users/vedantpadole/Desktop/Research/Adjectives_real/Sick/MVI_9363.mp4\n"
     ]
    }
   ],
   "source": [
    "import os\n",
    "from moviepy.editor import *\n",
    "\n",
    "# Set the directory containing the .mov files\n",
    "input_dir = '/Users/vedantpadole/Desktop/Research/Adjectives/Sick'\n",
    "\n",
    "# Set the directory to save the converted .mp4 files\n",
    "output_dir = '/Users/vedantpadole/Desktop/Research/Adjectives_real/Sick'\n",
    "\n",
    "# Loop through all the files in the input directory\n",
    "for filename in os.listdir(input_dir):\n",
    "    if filename.endswith('.MOV'):\n",
    "        # Load the .mov file using moviepy\n",
    "        video = VideoFileClip(os.path.join(input_dir, filename))\n",
    "        \n",
    "        # Set the output filename with .mp4 extension\n",
    "        output_filename = os.path.splitext(filename)[0] + '.mp4'\n",
    "        \n",
    "        # Set the output path\n",
    "        output_path = os.path.join(output_dir, output_filename)\n",
    "        \n",
    "        # Save the .mp4 file using moviepy\n",
    "        video.write_videofile(output_path)\n",
    "        \n",
    "        # Close the video clip\n",
    "        video.close()\n"
   ]
  },
  {
   "cell_type": "code",
   "execution_count": null,
   "metadata": {},
   "outputs": [],
   "source": []
  }
 ],
 "metadata": {
  "kernelspec": {
   "display_name": "Python 3",
   "language": "python",
   "name": "python3"
  },
  "language_info": {
   "codemirror_mode": {
    "name": "ipython",
    "version": 3
   },
   "file_extension": ".py",
   "mimetype": "text/x-python",
   "name": "python",
   "nbconvert_exporter": "python",
   "pygments_lexer": "ipython3",
   "version": "3.9.0"
  },
  "orig_nbformat": 4
 },
 "nbformat": 4,
 "nbformat_minor": 2
}
