{
 "cells": [
  {
   "cell_type": "code",
   "execution_count": 1,
   "metadata": {},
   "outputs": [],
   "source": [
    "import os\n",
    "import cv2\n",
    "import random\n",
    "import math\n",
    "import numpy as np\n",
    "import datetime as dt\n",
    "import tensorflow as tf\n",
    "import matplotlib.pyplot as plt"
   ]
  },
  {
   "cell_type": "code",
   "execution_count": 3,
   "metadata": {},
   "outputs": [
    {
     "name": "stdout",
     "output_type": "stream",
     "text": [
      "['Sick', 'Dry', 'Healthy']\n"
     ]
    },
    {
     "data": {
      "text/plain": [
       "3"
      ]
     },
     "execution_count": 3,
     "metadata": {},
     "output_type": "execute_result"
    }
   ],
   "source": [
    "import numpy as np \n",
    "import pandas as pd \n",
    "import matplotlib.pyplot as plt\n",
    "import os\n",
    "\n",
    "dataset_path = os.listdir('/Users/vedantpadole/Desktop/Research/Adjectives_real')\n",
    "\n",
    "all_classes = os.listdir('/Users/vedantpadole/Desktop/Research/Adjectives_real')\n",
    "print (all_classes)  \n",
    "len(all_classes)"
   ]
  },
  {
   "cell_type": "code",
   "execution_count": 21,
   "metadata": {},
   "outputs": [],
   "source": [
    "import os\n",
    "\n",
    "folder_path = \"/Users/vedantpadole/Desktop/Research/Adjectives\"\n",
    "sub_folder_name = \"/Users/vedantpadole/Desktop/Research/Adjectives/.DS_Store\"\n",
    "\n",
    "sub_folder_path = os.path.join(folder_path, sub_folder_name)\n",
    "\n",
    "os.remove(sub_folder_path)\n"
   ]
  },
  {
   "cell_type": "code",
   "execution_count": 22,
   "metadata": {},
   "outputs": [
    {
     "name": "stdout",
     "output_type": "stream",
     "text": [
      "['Sick', 'Dry', 'Healthy']\n"
     ]
    },
    {
     "data": {
      "text/plain": [
       "3"
      ]
     },
     "execution_count": 22,
     "metadata": {},
     "output_type": "execute_result"
    }
   ],
   "source": [
    "dataset_path = os.listdir('/Users/vedantpadole/Desktop/Research/Adjectives')\n",
    "\n",
    "all_classes = os.listdir('/Users/vedantpadole/Desktop/Research/Adjectives')\n",
    "print (all_classes)  \n",
    "len(all_classes)"
   ]
  },
  {
   "cell_type": "code",
   "execution_count": 4,
   "metadata": {},
   "outputs": [],
   "source": [
    "IMAGE_HEIGHT,IMAGE_WIDTH=128,128\n",
    "SEQUENCE_LENGTH=10\n",
    "DATASET='/Users/vedantpadole/Desktop/Research/Adjectives_real'\n",
    "CLASSES_LIST=all_classes"
   ]
  },
  {
   "cell_type": "code",
   "execution_count": 5,
   "metadata": {},
   "outputs": [],
   "source": [
    "def frames_extraction(video_path):\n",
    "  frames_list=[]\n",
    "  video_reader=cv2.VideoCapture(video_path)\n",
    "  video_frames_count=int(video_reader.get(cv2.CAP_PROP_FRAME_COUNT))\n",
    "  skip_frames_window=max(int(video_frames_count/SEQUENCE_LENGTH),1)\n",
    "  for frame_counter in range(SEQUENCE_LENGTH):\n",
    "    video_reader.set(cv2.CAP_PROP_POS_FRAMES,frame_counter*skip_frames_window)\n",
    "    success,frame=video_reader.read()\n",
    "    if not success:\n",
    "      break\n",
    "    resized_frame=cv2.resize(frame,(IMAGE_HEIGHT,IMAGE_WIDTH))\n",
    "    normalized_frame=resized_frame/255\n",
    "    frames_list.append(normalized_frame)\n",
    "  video_reader.release()\n",
    "  return frames_list"
   ]
  },
  {
   "cell_type": "code",
   "execution_count": 6,
   "metadata": {},
   "outputs": [],
   "source": [
    "def create_dataset():\n",
    "  features=[]\n",
    "  labels=[]\n",
    "  video_files_path=[]\n",
    "  for class_index,class_name in enumerate(CLASSES_LIST):\n",
    "    print(f'Extracting the data of class:  {class_name}')\n",
    "    files_list=os.listdir(os.path.join(DATASET,class_name))\n",
    "    for file_name in files_list:\n",
    "      video_file_path=os.path.join(DATASET,class_name,file_name)\n",
    "      frames=frames_extraction(video_file_path)\n",
    "      if len(frames)==SEQUENCE_LENGTH:\n",
    "        features.append(frames)\n",
    "        labels.append(class_index)\n",
    "        video_files_path.append(video_file_path)\n",
    "  features=np.asarray(features)\n",
    "  labels=np.array(labels)\n",
    "  return features,labels,video_files_path"
   ]
  },
  {
   "cell_type": "code",
   "execution_count": 7,
   "metadata": {},
   "outputs": [
    {
     "name": "stdout",
     "output_type": "stream",
     "text": [
      "Extracting the data of class:  Sick\n",
      "Extracting the data of class:  Dry\n",
      "Extracting the data of class:  Healthy\n"
     ]
    }
   ],
   "source": [
    "features,labels,video_files_path=create_dataset()"
   ]
  },
  {
   "cell_type": "code",
   "execution_count": 8,
   "metadata": {},
   "outputs": [],
   "source": [
    "from keras.utils import to_categorical\n",
    "one_hot_encoded_labels=to_categorical(labels)"
   ]
  },
  {
   "cell_type": "code",
   "execution_count": 9,
   "metadata": {},
   "outputs": [],
   "source": [
    "seed_constant=27\n",
    "np.random.seed(seed_constant)\n",
    "random.seed(seed_constant)\n",
    "tf.random.set_seed(seed_constant)"
   ]
  },
  {
   "cell_type": "code",
   "execution_count": 10,
   "metadata": {},
   "outputs": [],
   "source": [
    "from sklearn.model_selection import train_test_split\n",
    "features_train,features_test,labels_train,labels_test=train_test_split(features,one_hot_encoded_labels,test_size=0.2,shuffle=True,random_state=seed_constant)"
   ]
  },
  {
   "cell_type": "code",
   "execution_count": 11,
   "metadata": {},
   "outputs": [],
   "source": [
    "from keras import Sequential\n",
    "from keras.layers import Conv2D,MaxPooling2D,TimeDistributed,Dropout,Flatten,Dense,LSTM\n",
    "model=Sequential()\n",
    "model.add(TimeDistributed(Conv2D(16,(3,3),padding='same',activation='relu'),input_shape=(SEQUENCE_LENGTH,IMAGE_HEIGHT,IMAGE_WIDTH,3)))\n",
    "model.add(TimeDistributed(MaxPooling2D(2,2)))\n",
    "model.add(TimeDistributed(Dropout(0.25)))\n",
    "model.add(TimeDistributed(Conv2D(32,(3,3),padding='same',activation='relu')))\n",
    "model.add(TimeDistributed(MaxPooling2D(2,2)))\n",
    "model.add(TimeDistributed(Dropout(0.25)))\n",
    "model.add(TimeDistributed(Conv2D(64,(3,3),padding='same',activation='relu')))\n",
    "model.add(TimeDistributed(MaxPooling2D(2,2)))\n",
    "model.add(TimeDistributed(Dropout(0.25)))\n",
    "model.add(TimeDistributed(Conv2D(128,(3,3),padding='same',activation='relu')))\n",
    "model.add(TimeDistributed(MaxPooling2D(2,2)))\n",
    "model.add(TimeDistributed(Dropout(0.25)))\n",
    "model.add(TimeDistributed(Flatten()))\n",
    "model.add(LSTM(64))\n",
    "model.add(Dense(len(CLASSES_LIST),activation='softmax'))"
   ]
  },
  {
   "cell_type": "code",
   "execution_count": 12,
   "metadata": {},
   "outputs": [
    {
     "name": "stdout",
     "output_type": "stream",
     "text": [
      "Model: \"sequential\"\n",
      "_________________________________________________________________\n",
      " Layer (type)                Output Shape              Param #   \n",
      "=================================================================\n",
      " time_distributed (TimeDistr  (None, 10, 128, 128, 16)  448      \n",
      " ibuted)                                                         \n",
      "                                                                 \n",
      " time_distributed_1 (TimeDis  (None, 10, 64, 64, 16)   0         \n",
      " tributed)                                                       \n",
      "                                                                 \n",
      " time_distributed_2 (TimeDis  (None, 10, 64, 64, 16)   0         \n",
      " tributed)                                                       \n",
      "                                                                 \n",
      " time_distributed_3 (TimeDis  (None, 10, 64, 64, 32)   4640      \n",
      " tributed)                                                       \n",
      "                                                                 \n",
      " time_distributed_4 (TimeDis  (None, 10, 32, 32, 32)   0         \n",
      " tributed)                                                       \n",
      "                                                                 \n",
      " time_distributed_5 (TimeDis  (None, 10, 32, 32, 32)   0         \n",
      " tributed)                                                       \n",
      "                                                                 \n",
      " time_distributed_6 (TimeDis  (None, 10, 32, 32, 64)   18496     \n",
      " tributed)                                                       \n",
      "                                                                 \n",
      " time_distributed_7 (TimeDis  (None, 10, 16, 16, 64)   0         \n",
      " tributed)                                                       \n",
      "                                                                 \n",
      " time_distributed_8 (TimeDis  (None, 10, 16, 16, 64)   0         \n",
      " tributed)                                                       \n",
      "                                                                 \n",
      " time_distributed_9 (TimeDis  (None, 10, 16, 16, 128)  73856     \n",
      " tributed)                                                       \n",
      "                                                                 \n",
      " time_distributed_10 (TimeDi  (None, 10, 8, 8, 128)    0         \n",
      " stributed)                                                      \n",
      "                                                                 \n",
      " time_distributed_11 (TimeDi  (None, 10, 8, 8, 128)    0         \n",
      " stributed)                                                      \n",
      "                                                                 \n",
      " time_distributed_12 (TimeDi  (None, 10, 8192)         0         \n",
      " stributed)                                                      \n",
      "                                                                 \n",
      " lstm (LSTM)                 (None, 64)                2113792   \n",
      "                                                                 \n",
      " dense (Dense)               (None, 3)                 195       \n",
      "                                                                 \n",
      "=================================================================\n",
      "Total params: 2,211,427\n",
      "Trainable params: 2,211,427\n",
      "Non-trainable params: 0\n",
      "_________________________________________________________________\n"
     ]
    }
   ],
   "source": [
    "model.summary()"
   ]
  },
  {
   "cell_type": "code",
   "execution_count": 13,
   "metadata": {},
   "outputs": [
    {
     "name": "stdout",
     "output_type": "stream",
     "text": [
      "Epoch 1/50\n",
      "7/7 [==============================] - 26s 3s/step - loss: 1.5605 - accuracy: 0.3532 - val_loss: 1.1213 - val_accuracy: 0.2941\n",
      "Epoch 2/50\n",
      "7/7 [==============================] - 22s 3s/step - loss: 1.0985 - accuracy: 0.3532 - val_loss: 1.0977 - val_accuracy: 0.3529\n",
      "Epoch 3/50\n",
      "7/7 [==============================] - 25s 4s/step - loss: 1.0986 - accuracy: 0.3682 - val_loss: 1.0993 - val_accuracy: 0.3529\n",
      "Epoch 4/50\n",
      "7/7 [==============================] - 27s 4s/step - loss: 1.0982 - accuracy: 0.3682 - val_loss: 1.1063 - val_accuracy: 0.3529\n",
      "Epoch 5/50\n",
      "7/7 [==============================] - 28s 4s/step - loss: 1.1011 - accuracy: 0.3682 - val_loss: 1.1061 - val_accuracy: 0.3529\n",
      "Epoch 6/50\n",
      "7/7 [==============================] - 28s 4s/step - loss: 1.1031 - accuracy: 0.3682 - val_loss: 1.1043 - val_accuracy: 0.3529\n",
      "Epoch 7/50\n",
      "7/7 [==============================] - 28s 4s/step - loss: 1.0985 - accuracy: 0.3682 - val_loss: 1.1071 - val_accuracy: 0.3529\n",
      "Epoch 8/50\n",
      "7/7 [==============================] - 33s 5s/step - loss: 1.0990 - accuracy: 0.3682 - val_loss: 1.1051 - val_accuracy: 0.3529\n",
      "Epoch 9/50\n",
      "7/7 [==============================] - 29s 4s/step - loss: 1.0981 - accuracy: 0.3682 - val_loss: 1.1031 - val_accuracy: 0.3529\n",
      "Epoch 10/50\n",
      "7/7 [==============================] - 26s 4s/step - loss: 1.0970 - accuracy: 0.3682 - val_loss: 1.1020 - val_accuracy: 0.3529\n",
      "Epoch 11/50\n",
      "7/7 [==============================] - 27s 4s/step - loss: 1.0966 - accuracy: 0.3682 - val_loss: 1.1011 - val_accuracy: 0.3529\n",
      "Epoch 12/50\n",
      "7/7 [==============================] - 26s 4s/step - loss: 1.0962 - accuracy: 0.3682 - val_loss: 1.1007 - val_accuracy: 0.3529\n"
     ]
    }
   ],
   "source": [
    "from keras.callbacks import EarlyStopping\n",
    "early_stopping_call=EarlyStopping(monitor='val_loss',patience=10,mode='min',restore_best_weights=True)\n",
    "model.compile(loss='categorical_crossentropy',optimizer='Adam',metrics=['accuracy'])\n",
    "r=model.fit(x=features_train,y=labels_train,epochs=50,batch_size=32,shuffle=True,validation_split=0.2,callbacks=[early_stopping_call])"
   ]
  },
  {
   "cell_type": "code",
   "execution_count": 14,
   "metadata": {},
   "outputs": [],
   "source": [
    "model.save(\"Indian_sign_language.h5\")"
   ]
  },
  {
   "cell_type": "code",
   "execution_count": null,
   "metadata": {},
   "outputs": [],
   "source": []
  }
 ],
 "metadata": {
  "kernelspec": {
   "display_name": "Python 3",
   "language": "python",
   "name": "python3"
  },
  "language_info": {
   "codemirror_mode": {
    "name": "ipython",
    "version": 3
   },
   "file_extension": ".py",
   "mimetype": "text/x-python",
   "name": "python",
   "nbconvert_exporter": "python",
   "pygments_lexer": "ipython3",
   "version": "3.9.0"
  },
  "orig_nbformat": 4
 },
 "nbformat": 4,
 "nbformat_minor": 2
}
